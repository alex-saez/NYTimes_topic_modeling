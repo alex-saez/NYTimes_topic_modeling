{
 "cells": [
  {
   "cell_type": "code",
   "execution_count": 124,
   "metadata": {},
   "outputs": [],
   "source": [
    "from gensim.utils import simple_preprocess, ClippedCorpus\n",
    "from gensim.corpora import Dictionary, MmCorpus\n",
    "from gensim.parsing.preprocessing import STOPWORDS\n",
    "from gensim.models import LdaModel\n",
    "import numpy as np"
   ]
  },
  {
   "cell_type": "code",
   "execution_count": 125,
   "metadata": {},
   "outputs": [],
   "source": [
    "def tokenize(text):\n",
    "    return [token for token in simple_preprocess(text) if token not in STOPWORDS]\n",
    "    \n",
    "# create iterator over the documents in corpus.txt \n",
    "def corpus_iter():\n",
    "    for line in open('./data/corpus.txt'):\n",
    "        yield tokenize(line)"
   ]
  },
  {
   "cell_type": "code",
   "execution_count": 131,
   "metadata": {},
   "outputs": [
    {
     "name": "stdout",
     "output_type": "stream",
     "text": [
      "CPU times: user 2min 4s, sys: 1.25 s, total: 2min 5s\n",
      "Wall time: 2min 8s\n",
      "Dictionary(246605 unique tokens: ['able', 'accomplished', 'acute', 'ads', 'advantage']...)\n"
     ]
    }
   ],
   "source": [
    "# create dictionary from corpus\n",
    "%time nyt_dictionary = Dictionary(corpus_iter())\n",
    "print(nyt_dictionary)"
   ]
  },
  {
   "cell_type": "code",
   "execution_count": 132,
   "metadata": {},
   "outputs": [
    {
     "name": "stdout",
     "output_type": "stream",
     "text": [
      "Word IDs present in dictionary:\n",
      "[(264, 1), (936, 1), (2922, 1), (3752, 1), (11649, 1), (14261, 1), (41103, 1), (118162, 1)]\n",
      "['nature', 'line', 'cell', 'mixed', 'reveals', 'rabbit', 'cornea', 'epithelial']\n"
     ]
    }
   ],
   "source": [
    "# sample sentence\n",
    "doc = \"Phenotypic characterization of the SIRC (Statens Seruminstitut Rabbit Cornea) cell line reveals a mixed epithelial and fibroblastic nature\"\n",
    "bow = nyt_dictionary.doc2bow(tokenize(doc))\n",
    "print('Word IDs present in dictionary:')\n",
    "print(bow)\n",
    "print([nyt_dictionary[i[0]] for i in bow])"
   ]
  },
  {
   "cell_type": "code",
   "execution_count": 134,
   "metadata": {},
   "outputs": [],
   "source": [
    "# create a stream of bag-of-words vectors\n",
    "class BOWCorpus(object):\n",
    "    def __init__(self, corpus_iter, dictionary):\n",
    "        self.corpus_iter = corpus_iter\n",
    "        self.dictionary = dictionary\n",
    "    \n",
    "    def __iter__(self):\n",
    "        for tokens in self.corpus_iter():\n",
    "            yield self.dictionary.doc2bow(tokens)\n",
    "\n",
    "nyt_corpus = BOWCorpus(corpus_iter, nyt_dictionary)"
   ]
  },
  {
   "cell_type": "code",
   "execution_count": 135,
   "metadata": {},
   "outputs": [
    {
     "name": "stdout",
     "output_type": "stream",
     "text": [
      "CPU times: user 2min 21s, sys: 1.44 s, total: 2min 22s\n",
      "Wall time: 2min 24s\n"
     ]
    }
   ],
   "source": [
    "# store BOW-corpus into a file\n",
    "%time MmCorpus.serialize('./data/nyt_corpus_bow.mm', nyt_corpus)"
   ]
  },
  {
   "cell_type": "code",
   "execution_count": 93,
   "metadata": {},
   "outputs": [
    {
     "name": "stdout",
     "output_type": "stream",
     "text": [
      "MmCorpus(71973 documents, 246605 features, 17912557 non-zero entries)\n"
     ]
    }
   ],
   "source": [
    "# load BOW-corpus\n",
    "mm_corpus = MmCorpus('./data/nyt_corpus_bow.mm')\n",
    "print(mm_corpus)"
   ]
  },
  {
   "cell_type": "code",
   "execution_count": 119,
   "metadata": {},
   "outputs": [],
   "source": [
    "# use fewer documents during training, LDA is slow\n",
    "clipped_corpus = ClippedCorpus(mm_corpus, 10000)  "
   ]
  },
  {
   "cell_type": "code",
   "execution_count": 120,
   "metadata": {},
   "outputs": [
    {
     "name": "stdout",
     "output_type": "stream",
     "text": [
      "CPU times: user 1min 16s, sys: 6.18 s, total: 1min 22s\n",
      "Wall time: 1min 19s\n"
     ]
    }
   ],
   "source": [
    "# fit LDA model\n",
    "%time lda_model = LdaModel(clipped_corpus, num_topics=20, id2word=nyt_dictionary, passes=4)"
   ]
  },
  {
   "cell_type": "code",
   "execution_count": 123,
   "metadata": {},
   "outputs": [
    {
     "data": {
      "text/plain": [
       "[('said', 0.018776244),\n",
       " ('military', 0.007428504),\n",
       " ('state', 0.007309765),\n",
       " ('security', 0.006394513),\n",
       " ('attacks', 0.0061470517),\n",
       " ('government', 0.0060266275),\n",
       " ('islamic', 0.0060094655),\n",
       " ('united', 0.00581097),\n",
       " ('killed', 0.0049792747),\n",
       " ('group', 0.00484526),\n",
       " ('saudi', 0.0047487537),\n",
       " ('people', 0.0045015886),\n",
       " ('forces', 0.0043934025),\n",
       " ('officials', 0.004319128),\n",
       " ('war', 0.004206837),\n",
       " ('brussels', 0.0041150996),\n",
       " ('al', 0.003945687),\n",
       " ('american', 0.003882213),\n",
       " ('iran', 0.0037156686),\n",
       " ('paris', 0.0037052904),\n",
       " ('mr', 0.0036327094),\n",
       " ('israel', 0.003547665),\n",
       " ('attack', 0.0034859704),\n",
       " ('states', 0.0034659172),\n",
       " ('year', 0.0034348196),\n",
       " ('country', 0.0032869552),\n",
       " ('iraq', 0.00323156),\n",
       " ('police', 0.0030473035),\n",
       " ('syria', 0.0030255055),\n",
       " ('french', 0.002898777),\n",
       " ('israeli', 0.0028642572),\n",
       " ('foreign', 0.0027879404),\n",
       " ('minister', 0.002597607),\n",
       " ('including', 0.0024606762),\n",
       " ('terrorist', 0.0024088093),\n",
       " ('arabia', 0.00238324),\n",
       " ('france', 0.0023167413),\n",
       " ('told', 0.0022201622),\n",
       " ('groups', 0.0021660395),\n",
       " ('international', 0.0021097315),\n",
       " ('intelligence', 0.0020284913),\n",
       " ('soldiers', 0.0019840372),\n",
       " ('troops', 0.0019773247),\n",
       " ('years', 0.0019500679),\n",
       " ('suicide', 0.0019421251),\n",
       " ('army', 0.0019389568),\n",
       " ('countries', 0.0019338994),\n",
       " ('city', 0.001909961),\n",
       " ('rights', 0.0018863447),\n",
       " ('president', 0.0018792471)]"
      ]
     },
     "execution_count": 123,
     "metadata": {},
     "output_type": "execute_result"
    }
   ],
   "source": [
    "lda_model.show_topic(15, topn=50)"
   ]
  },
  {
   "cell_type": "code",
   "execution_count": 113,
   "metadata": {},
   "outputs": [
    {
     "data": {
      "text/plain": [
       "[(19,\n",
       "  '0.007*\"people\" + 0.005*\"women\" + 0.005*\"american\" + 0.004*\"world\" + 0.004*\"like\" + 0.004*\"war\" + 0.003*\"time\" + 0.003*\"mr\" + 0.003*\"years\" + 0.003*\"way\"'),\n",
       " (17,\n",
       "  '0.015*\"students\" + 0.014*\"north\" + 0.013*\"said\" + 0.010*\"school\" + 0.009*\"korea\" + 0.007*\"nuclear\" + 0.007*\"university\" + 0.007*\"college\" + 0.007*\"workers\" + 0.006*\"law\"')]"
      ]
     },
     "execution_count": 113,
     "metadata": {},
     "output_type": "execute_result"
    }
   ],
   "source": [
    "lda_model.print_topics(2)"
   ]
  },
  {
   "cell_type": "code",
   "execution_count": null,
   "metadata": {},
   "outputs": [],
   "source": []
  }
 ],
 "metadata": {
  "anaconda-cloud": {},
  "kernelspec": {
   "display_name": "Python [conda env:python3]",
   "language": "python",
   "name": "conda-env-python3-py"
  },
  "language_info": {
   "codemirror_mode": {
    "name": "ipython",
    "version": 3
   },
   "file_extension": ".py",
   "mimetype": "text/x-python",
   "name": "python",
   "nbconvert_exporter": "python",
   "pygments_lexer": "ipython3",
   "version": "3.6.2"
  }
 },
 "nbformat": 4,
 "nbformat_minor": 2
}
